{
 "cells": [
  {
   "cell_type": "markdown",
   "metadata": {},
   "source": [
    "## Prediction Using Supervised Machine Learning"
   ]
  },
  {
   "cell_type": "markdown",
   "metadata": {},
   "source": [
    "AIM: To predict the percentage of marks that a student is expected to score based upon the number of hours studied"
   ]
  },
  {
   "cell_type": "markdown",
   "metadata": {},
   "source": [
    "Author: Harshita Gupta"
   ]
  },
  {
   "cell_type": "markdown",
   "metadata": {},
   "source": [
    "## STEP 1: IMPORTING REQUIRED LIBRARIES"
   ]
  },
  {
   "cell_type": "code",
   "execution_count": 1,
   "metadata": {},
   "outputs": [],
   "source": [
    "import numpy as np\n",
    "import pandas as pd\n",
    "import matplotlib.pyplot as plt\n",
    "import seaborn as sns\n",
    "import sklearn as sk\n",
    "from sklearn import linear_model\n",
    "import statsmodels.api as sm\n",
    "import warnings\n",
    "warnings.filterwarnings('ignore')\n",
    "%matplotlib inline"
   ]
  },
  {
   "cell_type": "markdown",
   "metadata": {},
   "source": [
    "## STEP 2: LOADING THE DATA"
   ]
  },
  {
   "cell_type": "code",
   "execution_count": 2,
   "metadata": {},
   "outputs": [],
   "source": [
    "data = pd.read_csv('http://bit.ly/w-data')"
   ]
  },
  {
   "cell_type": "code",
   "execution_count": 3,
   "metadata": {},
   "outputs": [
    {
     "data": {
      "text/html": [
       "<div>\n",
       "<style scoped>\n",
       "    .dataframe tbody tr th:only-of-type {\n",
       "        vertical-align: middle;\n",
       "    }\n",
       "\n",
       "    .dataframe tbody tr th {\n",
       "        vertical-align: top;\n",
       "    }\n",
       "\n",
       "    .dataframe thead th {\n",
       "        text-align: right;\n",
       "    }\n",
       "</style>\n",
       "<table border=\"1\" class=\"dataframe\">\n",
       "  <thead>\n",
       "    <tr style=\"text-align: right;\">\n",
       "      <th></th>\n",
       "      <th>Hours</th>\n",
       "      <th>Scores</th>\n",
       "    </tr>\n",
       "  </thead>\n",
       "  <tbody>\n",
       "    <tr>\n",
       "      <th>0</th>\n",
       "      <td>2.5</td>\n",
       "      <td>21</td>\n",
       "    </tr>\n",
       "    <tr>\n",
       "      <th>1</th>\n",
       "      <td>5.1</td>\n",
       "      <td>47</td>\n",
       "    </tr>\n",
       "    <tr>\n",
       "      <th>2</th>\n",
       "      <td>3.2</td>\n",
       "      <td>27</td>\n",
       "    </tr>\n",
       "    <tr>\n",
       "      <th>3</th>\n",
       "      <td>8.5</td>\n",
       "      <td>75</td>\n",
       "    </tr>\n",
       "    <tr>\n",
       "      <th>4</th>\n",
       "      <td>3.5</td>\n",
       "      <td>30</td>\n",
       "    </tr>\n",
       "  </tbody>\n",
       "</table>\n",
       "</div>"
      ],
      "text/plain": [
       "   Hours  Scores\n",
       "0    2.5      21\n",
       "1    5.1      47\n",
       "2    3.2      27\n",
       "3    8.5      75\n",
       "4    3.5      30"
      ]
     },
     "execution_count": 3,
     "metadata": {},
     "output_type": "execute_result"
    }
   ],
   "source": [
    "data.head()"
   ]
  },
  {
   "cell_type": "code",
   "execution_count": 4,
   "metadata": {
    "scrolled": false
   },
   "outputs": [
    {
     "data": {
      "text/html": [
       "<div>\n",
       "<style scoped>\n",
       "    .dataframe tbody tr th:only-of-type {\n",
       "        vertical-align: middle;\n",
       "    }\n",
       "\n",
       "    .dataframe tbody tr th {\n",
       "        vertical-align: top;\n",
       "    }\n",
       "\n",
       "    .dataframe thead th {\n",
       "        text-align: right;\n",
       "    }\n",
       "</style>\n",
       "<table border=\"1\" class=\"dataframe\">\n",
       "  <thead>\n",
       "    <tr style=\"text-align: right;\">\n",
       "      <th></th>\n",
       "      <th>Hours</th>\n",
       "      <th>Scores</th>\n",
       "    </tr>\n",
       "  </thead>\n",
       "  <tbody>\n",
       "    <tr>\n",
       "      <th>0</th>\n",
       "      <td>2.5</td>\n",
       "      <td>21</td>\n",
       "    </tr>\n",
       "    <tr>\n",
       "      <th>1</th>\n",
       "      <td>5.1</td>\n",
       "      <td>47</td>\n",
       "    </tr>\n",
       "    <tr>\n",
       "      <th>2</th>\n",
       "      <td>3.2</td>\n",
       "      <td>27</td>\n",
       "    </tr>\n",
       "    <tr>\n",
       "      <th>3</th>\n",
       "      <td>8.5</td>\n",
       "      <td>75</td>\n",
       "    </tr>\n",
       "    <tr>\n",
       "      <th>4</th>\n",
       "      <td>3.5</td>\n",
       "      <td>30</td>\n",
       "    </tr>\n",
       "    <tr>\n",
       "      <th>5</th>\n",
       "      <td>1.5</td>\n",
       "      <td>20</td>\n",
       "    </tr>\n",
       "    <tr>\n",
       "      <th>6</th>\n",
       "      <td>9.2</td>\n",
       "      <td>88</td>\n",
       "    </tr>\n",
       "    <tr>\n",
       "      <th>7</th>\n",
       "      <td>5.5</td>\n",
       "      <td>60</td>\n",
       "    </tr>\n",
       "    <tr>\n",
       "      <th>8</th>\n",
       "      <td>8.3</td>\n",
       "      <td>81</td>\n",
       "    </tr>\n",
       "    <tr>\n",
       "      <th>9</th>\n",
       "      <td>2.7</td>\n",
       "      <td>25</td>\n",
       "    </tr>\n",
       "  </tbody>\n",
       "</table>\n",
       "</div>"
      ],
      "text/plain": [
       "   Hours  Scores\n",
       "0    2.5      21\n",
       "1    5.1      47\n",
       "2    3.2      27\n",
       "3    8.5      75\n",
       "4    3.5      30\n",
       "5    1.5      20\n",
       "6    9.2      88\n",
       "7    5.5      60\n",
       "8    8.3      81\n",
       "9    2.7      25"
      ]
     },
     "execution_count": 4,
     "metadata": {},
     "output_type": "execute_result"
    }
   ],
   "source": [
    "data.head(10)"
   ]
  },
  {
   "cell_type": "markdown",
   "metadata": {},
   "source": [
    "## STEP 3: EXPLORATORY DATA ANALYSIS"
   ]
  },
  {
   "cell_type": "code",
   "execution_count": 5,
   "metadata": {},
   "outputs": [
    {
     "data": {
      "text/plain": [
       "Hours     float64\n",
       "Scores      int64\n",
       "dtype: object"
      ]
     },
     "execution_count": 5,
     "metadata": {},
     "output_type": "execute_result"
    }
   ],
   "source": [
    "data.dtypes"
   ]
  },
  {
   "cell_type": "code",
   "execution_count": 6,
   "metadata": {},
   "outputs": [
    {
     "data": {
      "text/plain": [
       "(25, 2)"
      ]
     },
     "execution_count": 6,
     "metadata": {},
     "output_type": "execute_result"
    }
   ],
   "source": [
    "data.shape"
   ]
  },
  {
   "cell_type": "code",
   "execution_count": 7,
   "metadata": {
    "scrolled": false
   },
   "outputs": [
    {
     "data": {
      "text/html": [
       "<div>\n",
       "<style scoped>\n",
       "    .dataframe tbody tr th:only-of-type {\n",
       "        vertical-align: middle;\n",
       "    }\n",
       "\n",
       "    .dataframe tbody tr th {\n",
       "        vertical-align: top;\n",
       "    }\n",
       "\n",
       "    .dataframe thead th {\n",
       "        text-align: right;\n",
       "    }\n",
       "</style>\n",
       "<table border=\"1\" class=\"dataframe\">\n",
       "  <thead>\n",
       "    <tr style=\"text-align: right;\">\n",
       "      <th></th>\n",
       "      <th>Hours</th>\n",
       "      <th>Scores</th>\n",
       "    </tr>\n",
       "  </thead>\n",
       "  <tbody>\n",
       "    <tr>\n",
       "      <th>count</th>\n",
       "      <td>25.000000</td>\n",
       "      <td>25.000000</td>\n",
       "    </tr>\n",
       "    <tr>\n",
       "      <th>mean</th>\n",
       "      <td>5.012000</td>\n",
       "      <td>51.480000</td>\n",
       "    </tr>\n",
       "    <tr>\n",
       "      <th>std</th>\n",
       "      <td>2.525094</td>\n",
       "      <td>25.286887</td>\n",
       "    </tr>\n",
       "    <tr>\n",
       "      <th>min</th>\n",
       "      <td>1.100000</td>\n",
       "      <td>17.000000</td>\n",
       "    </tr>\n",
       "    <tr>\n",
       "      <th>25%</th>\n",
       "      <td>2.700000</td>\n",
       "      <td>30.000000</td>\n",
       "    </tr>\n",
       "    <tr>\n",
       "      <th>50%</th>\n",
       "      <td>4.800000</td>\n",
       "      <td>47.000000</td>\n",
       "    </tr>\n",
       "    <tr>\n",
       "      <th>75%</th>\n",
       "      <td>7.400000</td>\n",
       "      <td>75.000000</td>\n",
       "    </tr>\n",
       "    <tr>\n",
       "      <th>max</th>\n",
       "      <td>9.200000</td>\n",
       "      <td>95.000000</td>\n",
       "    </tr>\n",
       "  </tbody>\n",
       "</table>\n",
       "</div>"
      ],
      "text/plain": [
       "           Hours     Scores\n",
       "count  25.000000  25.000000\n",
       "mean    5.012000  51.480000\n",
       "std     2.525094  25.286887\n",
       "min     1.100000  17.000000\n",
       "25%     2.700000  30.000000\n",
       "50%     4.800000  47.000000\n",
       "75%     7.400000  75.000000\n",
       "max     9.200000  95.000000"
      ]
     },
     "execution_count": 7,
     "metadata": {},
     "output_type": "execute_result"
    }
   ],
   "source": [
    "data.describe(include = 'all')"
   ]
  },
  {
   "cell_type": "code",
   "execution_count": 8,
   "metadata": {},
   "outputs": [
    {
     "data": {
      "text/plain": [
       "Hours     23\n",
       "Scores    23\n",
       "dtype: int64"
      ]
     },
     "execution_count": 8,
     "metadata": {},
     "output_type": "execute_result"
    }
   ],
   "source": [
    "data.nunique()"
   ]
  },
  {
   "cell_type": "code",
   "execution_count": 9,
   "metadata": {
    "scrolled": true
   },
   "outputs": [
    {
     "data": {
      "text/plain": [
       "Hours     0\n",
       "Scores    0\n",
       "dtype: int64"
      ]
     },
     "execution_count": 9,
     "metadata": {},
     "output_type": "execute_result"
    }
   ],
   "source": [
    "data.isnull().sum()"
   ]
  },
  {
   "cell_type": "code",
   "execution_count": 10,
   "metadata": {},
   "outputs": [
    {
     "data": {
      "text/plain": [
       "<AxesSubplot:xlabel='Hours'>"
      ]
     },
     "execution_count": 10,
     "metadata": {},
     "output_type": "execute_result"
    },
    {
     "data": {
      "image/png": "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\n",
      "text/plain": [
       "<Figure size 432x288 with 1 Axes>"
      ]
     },
     "metadata": {
      "needs_background": "light"
     },
     "output_type": "display_data"
    }
   ],
   "source": [
    "# Box Plots are used for outlier detection\n",
    "sns.boxplot(data['Hours'])"
   ]
  },
  {
   "cell_type": "code",
   "execution_count": 11,
   "metadata": {
    "scrolled": true
   },
   "outputs": [
    {
     "data": {
      "text/plain": [
       "<AxesSubplot:xlabel='Scores'>"
      ]
     },
     "execution_count": 11,
     "metadata": {},
     "output_type": "execute_result"
    },
    {
     "data": {
      "image/png": "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\n",
      "text/plain": [
       "<Figure size 432x288 with 1 Axes>"
      ]
     },
     "metadata": {
      "needs_background": "light"
     },
     "output_type": "display_data"
    }
   ],
   "source": [
    "sns.boxplot(data['Scores'])"
   ]
  },
  {
   "cell_type": "markdown",
   "metadata": {},
   "source": [
    "The boxplot indicates absence of outliers"
   ]
  },
  {
   "cell_type": "code",
   "execution_count": 12,
   "metadata": {},
   "outputs": [
    {
     "data": {
      "image/png": "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\n",
      "text/plain": [
       "<Figure size 1008x360 with 1 Axes>"
      ]
     },
     "metadata": {},
     "output_type": "display_data"
    }
   ],
   "source": [
    "sns.set(style = 'whitegrid')\n",
    "f , ax = plt.subplots(1,1, figsize = (14,5))\n",
    "ax = sns.barplot(x = 'Hours', y = 'Scores', data = data, palette = 'cool')"
   ]
  },
  {
   "cell_type": "markdown",
   "metadata": {},
   "source": [
    "The above graph highlights the scored attained by a student after studying for given no.of hours"
   ]
  },
  {
   "cell_type": "markdown",
   "metadata": {},
   "source": [
    "## VISUALIZING THE DATA USING SCATTER PLOT"
   ]
  },
  {
   "cell_type": "code",
   "execution_count": 13,
   "metadata": {
    "scrolled": true
   },
   "outputs": [
    {
     "name": "stderr",
     "output_type": "stream",
     "text": [
      "*c* argument looks like a single numeric RGB or RGBA sequence, which should be avoided as value-mapping will have precedence in case its length matches with *x* & *y*.  Please use the *color* keyword-argument or provide a 2-D array with a single row if you intend to specify the same RGB or RGBA value for all points.\n"
     ]
    },
    {
     "data": {
      "image/png": "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\n",
      "text/plain": [
       "<Figure size 432x288 with 1 Axes>"
      ]
     },
     "metadata": {},
     "output_type": "display_data"
    }
   ],
   "source": [
    "data.plot(x='Hours', y='Scores',kind='scatter')  \n",
    "plt.title('Study Hours vs Percentage of marks obtained',fontsize=12)  \n",
    "plt.xlabel('Hours Studied',fontsize=12)  \n",
    "plt.ylabel('Percentage Score',fontsize=12) \n",
    "plt.grid(True)\n",
    "plt.show()"
   ]
  },
  {
   "cell_type": "markdown",
   "metadata": {},
   "source": [
    "Description : The graph above highlights that there exist a positive linear relationship between the number of hours studied and percentage score. "
   ]
  },
  {
   "cell_type": "code",
   "execution_count": 14,
   "metadata": {},
   "outputs": [
    {
     "data": {
      "text/html": [
       "<div>\n",
       "<style scoped>\n",
       "    .dataframe tbody tr th:only-of-type {\n",
       "        vertical-align: middle;\n",
       "    }\n",
       "\n",
       "    .dataframe tbody tr th {\n",
       "        vertical-align: top;\n",
       "    }\n",
       "\n",
       "    .dataframe thead th {\n",
       "        text-align: right;\n",
       "    }\n",
       "</style>\n",
       "<table border=\"1\" class=\"dataframe\">\n",
       "  <thead>\n",
       "    <tr style=\"text-align: right;\">\n",
       "      <th></th>\n",
       "      <th>Hours</th>\n",
       "      <th>Scores</th>\n",
       "    </tr>\n",
       "  </thead>\n",
       "  <tbody>\n",
       "    <tr>\n",
       "      <th>Hours</th>\n",
       "      <td>1.000000</td>\n",
       "      <td>0.976191</td>\n",
       "    </tr>\n",
       "    <tr>\n",
       "      <th>Scores</th>\n",
       "      <td>0.976191</td>\n",
       "      <td>1.000000</td>\n",
       "    </tr>\n",
       "  </tbody>\n",
       "</table>\n",
       "</div>"
      ],
      "text/plain": [
       "           Hours    Scores\n",
       "Hours   1.000000  0.976191\n",
       "Scores  0.976191  1.000000"
      ]
     },
     "execution_count": 14,
     "metadata": {},
     "output_type": "execute_result"
    }
   ],
   "source": [
    "data.corr()"
   ]
  },
  {
   "cell_type": "code",
   "execution_count": 15,
   "metadata": {
    "scrolled": true
   },
   "outputs": [
    {
     "data": {
      "image/png": "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\n",
      "text/plain": [
       "<Figure size 432x288 with 2 Axes>"
      ]
     },
     "metadata": {},
     "output_type": "display_data"
    }
   ],
   "source": [
    "ax = sns.heatmap(data.corr(),annot = True, cmap = 'YlGnBu')"
   ]
  },
  {
   "cell_type": "markdown",
   "metadata": {},
   "source": [
    "## STEP 4: DIVIDING THE DATA INTO ATTRIBUTES AND LABELS (To Prepare The Data)"
   ]
  },
  {
   "cell_type": "code",
   "execution_count": 16,
   "metadata": {},
   "outputs": [
    {
     "name": "stdout",
     "output_type": "stream",
     "text": [
      "Values of X [[2.5]\n",
      " [5.1]\n",
      " [3.2]\n",
      " [8.5]\n",
      " [3.5]\n",
      " [1.5]\n",
      " [9.2]\n",
      " [5.5]\n",
      " [8.3]\n",
      " [2.7]\n",
      " [7.7]\n",
      " [5.9]\n",
      " [4.5]\n",
      " [3.3]\n",
      " [1.1]\n",
      " [8.9]\n",
      " [2.5]\n",
      " [1.9]\n",
      " [6.1]\n",
      " [7.4]\n",
      " [2.7]\n",
      " [4.8]\n",
      " [3.8]\n",
      " [6.9]\n",
      " [7.8]]\n",
      "Values of y [21 47 27 75 30 20 88 60 81 25 85 62 41 42 17 95 30 24 67 69 30 54 35 76\n",
      " 86]\n"
     ]
    }
   ],
   "source": [
    "X = data.iloc[:, :-1].values  \n",
    "y = data.iloc[:, 1].values \n",
    "print(\"Values of X\",X)\n",
    "print(\"Values of y\",y)"
   ]
  },
  {
   "cell_type": "markdown",
   "metadata": {},
   "source": [
    "## STEP 5: SPLITTING DATA INTO TRAINING AND TEST SETS"
   ]
  },
  {
   "cell_type": "markdown",
   "metadata": {},
   "source": [
    "setting random_state will give the same training and test set everytime on running the code."
   ]
  },
  {
   "cell_type": "markdown",
   "metadata": {},
   "source": [
    "Using Scikit-Learn's built in train_test_split() method"
   ]
  },
  {
   "cell_type": "code",
   "execution_count": 17,
   "metadata": {},
   "outputs": [],
   "source": [
    "from sklearn.model_selection import train_test_split  \n",
    "X_train, X_test, y_train, y_test = train_test_split(X, y, test_size = 0.2, random_state=0)"
   ]
  },
  {
   "cell_type": "markdown",
   "metadata": {},
   "source": [
    "## STEP 6: TRAIN THE ALGORITHM"
   ]
  },
  {
   "cell_type": "code",
   "execution_count": 18,
   "metadata": {
    "scrolled": true
   },
   "outputs": [
    {
     "name": "stdout",
     "output_type": "stream",
     "text": [
      "Intercept: 2.018160041434683\n",
      "Coefficient: [9.91065648]\n",
      "Training complete.\n"
     ]
    }
   ],
   "source": [
    "lm = linear_model.LinearRegression()  \n",
    "model = lm.fit(X_train, y_train) \n",
    "print(\"Intercept:\",model.intercept_)\n",
    "print(\"Coefficient:\",model.coef_)\n",
    "print(\"Training complete.\")"
   ]
  },
  {
   "cell_type": "markdown",
   "metadata": {},
   "source": [
    "## STEP 7: PLOT REGRESSION LINE"
   ]
  },
  {
   "cell_type": "markdown",
   "metadata": {},
   "source": [
    "Regression line is represented as : y= intercept + coeff * x \n",
    "                              Thus: y= 2.018 + 9.910 * x"
   ]
  },
  {
   "cell_type": "code",
   "execution_count": 20,
   "metadata": {},
   "outputs": [
    {
     "data": {
      "image/png": "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\n",
      "text/plain": [
       "<Figure size 432x288 with 1 Axes>"
      ]
     },
     "metadata": {},
     "output_type": "display_data"
    }
   ],
   "source": [
    "# Plotting the regression line\n",
    "line = model.coef_*X+model.intercept_\n",
    "\n",
    "# Plotting for the test data\n",
    "plt.scatter(X_train, y_train)\n",
    "plt.plot(X_train,lm.predict(X_train),color='GREEN');\n",
    "plt.xlabel(\"hours\",fontsize=12)\n",
    "plt.ylabel(\"scores\",fontsize=12)\n",
    "plt.show()"
   ]
  },
  {
   "cell_type": "markdown",
   "metadata": {},
   "source": [
    "What will be predicted score if a student studies for 9.25 hrs/ day?"
   ]
  },
  {
   "cell_type": "markdown",
   "metadata": {},
   "source": [
    "## STEP 8: PREDICTING SCORES FOR STUDYING 9.25hrs/DAY"
   ]
  },
  {
   "cell_type": "code",
   "execution_count": 22,
   "metadata": {
    "scrolled": true
   },
   "outputs": [
    {
     "name": "stdout",
     "output_type": "stream",
     "text": [
      "number of hours = 9.25\n",
      "Predicted score= 93.69173248737538\n"
     ]
    }
   ],
   "source": [
    "print(\"number of hours = 9.25\") # Testing data - In Hours\n",
    "y_predicted_value = lm.predict([[9.25]])\n",
    "print(\"Predicted score=\",format(y_predicted_value[0])) # Predicting the scores"
   ]
  },
  {
   "cell_type": "markdown",
   "metadata": {},
   "source": [
    "RESULT : PREDICTED SCORE IF A STUDENTS STUDIES FOR 9.25 HOURS/DAY IS 93.6%"
   ]
  },
  {
   "cell_type": "markdown",
   "metadata": {},
   "source": [
    "## STEP 9: PREDICTING AND TESTING"
   ]
  },
  {
   "cell_type": "code",
   "execution_count": 23,
   "metadata": {},
   "outputs": [
    {
     "name": "stdout",
     "output_type": "stream",
     "text": [
      "[[1.5]\n",
      " [3.2]\n",
      " [7.4]\n",
      " [2.5]\n",
      " [5.9]]\n"
     ]
    },
    {
     "data": {
      "text/html": [
       "<div>\n",
       "<style scoped>\n",
       "    .dataframe tbody tr th:only-of-type {\n",
       "        vertical-align: middle;\n",
       "    }\n",
       "\n",
       "    .dataframe tbody tr th {\n",
       "        vertical-align: top;\n",
       "    }\n",
       "\n",
       "    .dataframe thead th {\n",
       "        text-align: right;\n",
       "    }\n",
       "</style>\n",
       "<table border=\"1\" class=\"dataframe\">\n",
       "  <thead>\n",
       "    <tr style=\"text-align: right;\">\n",
       "      <th></th>\n",
       "      <th>Actual</th>\n",
       "      <th>Predicted</th>\n",
       "    </tr>\n",
       "  </thead>\n",
       "  <tbody>\n",
       "    <tr>\n",
       "      <th>0</th>\n",
       "      <td>20</td>\n",
       "      <td>16.884145</td>\n",
       "    </tr>\n",
       "    <tr>\n",
       "      <th>1</th>\n",
       "      <td>27</td>\n",
       "      <td>33.732261</td>\n",
       "    </tr>\n",
       "    <tr>\n",
       "      <th>2</th>\n",
       "      <td>69</td>\n",
       "      <td>75.357018</td>\n",
       "    </tr>\n",
       "    <tr>\n",
       "      <th>3</th>\n",
       "      <td>30</td>\n",
       "      <td>26.794801</td>\n",
       "    </tr>\n",
       "    <tr>\n",
       "      <th>4</th>\n",
       "      <td>62</td>\n",
       "      <td>60.491033</td>\n",
       "    </tr>\n",
       "  </tbody>\n",
       "</table>\n",
       "</div>"
      ],
      "text/plain": [
       "   Actual  Predicted\n",
       "0      20  16.884145\n",
       "1      27  33.732261\n",
       "2      69  75.357018\n",
       "3      30  26.794801\n",
       "4      62  60.491033"
      ]
     },
     "execution_count": 23,
     "metadata": {},
     "output_type": "execute_result"
    }
   ],
   "source": [
    "print(X_test)                            #test data\n",
    "y_predicted_value= model.predict(X_test) #predicted data\n",
    "df = pd.DataFrame({'Actual': y_test,'Predicted': y_predicted_value})  # compare actual vs predicted data\n",
    "df"
   ]
  },
  {
   "cell_type": "markdown",
   "metadata": {},
   "source": [
    "## STEP 10: EVALUATING THE MODEL/ MODEL PERFORMANCE METRICS"
   ]
  },
  {
   "cell_type": "markdown",
   "metadata": {},
   "source": [
    "The last step is to evaluate the performance of algorithm. \n",
    "This step is particularly important to compare how well different algorithms perform on a particular dataset. "
   ]
  },
  {
   "cell_type": "code",
   "execution_count": 24,
   "metadata": {},
   "outputs": [],
   "source": [
    "# WAY 1\n",
    "from sklearn.metrics import mean_squared_error, r2_score\n",
    "mse = mean_squared_error(y_test, y_predicted_value)\n",
    "r_squared = r2_score(y_test, y_predicted_value)"
   ]
  },
  {
   "cell_type": "code",
   "execution_count": 25,
   "metadata": {},
   "outputs": [],
   "source": [
    "from math import sqrt\n",
    "rmse = sqrt(mse)"
   ]
  },
  {
   "cell_type": "code",
   "execution_count": 26,
   "metadata": {
    "scrolled": true
   },
   "outputs": [
    {
     "name": "stdout",
     "output_type": "stream",
     "text": [
      "Mean_Squared_Error: 21.5987693072174\n",
      "Root_Mean_Squared_Error: 4.6474476121003665\n",
      "r_square_value: 0.9454906892105356\n"
     ]
    }
   ],
   "source": [
    "print('Mean_Squared_Error:' ,mse)\n",
    "print('Root_Mean_Squared_Error:' , rmse)\n",
    "print('r_square_value:' , r_squared)"
   ]
  },
  {
   "cell_type": "markdown",
   "metadata": {},
   "source": [
    "#### End"
   ]
  },
  {
   "cell_type": "code",
   "execution_count": null,
   "metadata": {},
   "outputs": [],
   "source": []
  }

}
